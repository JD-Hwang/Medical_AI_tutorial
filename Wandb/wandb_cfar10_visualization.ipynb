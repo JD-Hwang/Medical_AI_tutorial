{
 "cells": [
  {
   "cell_type": "code",
   "execution_count": 1,
   "metadata": {},
   "outputs": [],
   "source": [
    "import wandb\n",
    "import configparser\n",
    "import torch\n",
    "import torch.nn as nn\n",
    "from torchvision import datasets, transforms\n",
    "import wandb"
   ]
  },
  {
   "cell_type": "code",
   "execution_count": 2,
   "metadata": {},
   "outputs": [
    {
     "name": "stdout",
     "output_type": "stream",
     "text": [
      "cuda\n"
     ]
    }
   ],
   "source": [
    "device = torch.device(\"cuda\" if torch.cuda.is_available() else \"cpu\")\n",
    "print(device)"
   ]
  },
  {
   "cell_type": "markdown",
   "metadata": {},
   "source": [
    "## Config parser 불러오기"
   ]
  },
  {
   "cell_type": "code",
   "execution_count": 3,
   "metadata": {},
   "outputs": [],
   "source": [
    "def load_config(config_path:str) -> dict:\n",
    "    config = configparser.ConfigParser()    \n",
    "    config.read(config_path, encoding='utf-8') \n",
    "    # print(config.sections())\n",
    "    \n",
    "    new_dict = {}\n",
    "    for section in config.sections():\n",
    "        new_dict[section] = dict()\n",
    "        for value in config[section]:\n",
    "            try:\n",
    "                new_value = float(config[section][value])\n",
    "                new_dict[section][value] = new_value\n",
    "            except ValueError:\n",
    "                new_value = config[section][value].lower()\n",
    "                if new_value in ['y','yes','true','t','on']:\n",
    "                    new_dict[section][value] = True\n",
    "                elif new_value in ['n','no','false','f','off']:\n",
    "                    new_dict[section][value] = False\n",
    "                else:\n",
    "                    new_dict[section][value] = [int(i) for i in eval(config[section][value])]\n",
    "    return new_dict"
   ]
  },
  {
   "cell_type": "code",
   "execution_count": 4,
   "metadata": {},
   "outputs": [],
   "source": [
    "config = configparser.ConfigParser()    \n",
    "config.read(\"config_cifar.ini\", encoding='utf-8') \n",
    "\n",
    "batch_size = config['TRAINING'].getint('batch_size')\n",
    "epochs = config['TRAINING'].getint('epoch')\n",
    "learning_rate = config['TRAINING'].getfloat('learning_rate')\n",
    "optimizer_type = config['TRAINING']['optimizer'].lower()\n",
    "loss_function_type = config['TRAINING']['loss_function'].lower()"
   ]
  },
  {
   "cell_type": "markdown",
   "metadata": {},
   "source": [
    "## Wandb initialize"
   ]
  },
  {
   "cell_type": "code",
   "execution_count": 5,
   "metadata": {},
   "outputs": [
    {
     "name": "stderr",
     "output_type": "stream",
     "text": [
      "Failed to detect the name of this notebook, you can set it manually with the WANDB_NOTEBOOK_NAME environment variable to enable code saving.\n",
      "\u001b[34m\u001b[1mwandb\u001b[0m: Currently logged in as: \u001b[33mjd-hwang\u001b[0m. Use \u001b[1m`wandb login --relogin`\u001b[0m to force relogin\n"
     ]
    },
    {
     "data": {
      "text/html": [
       "wandb version 0.16.5 is available!  To upgrade, please run:\n",
       " $ pip install wandb --upgrade"
      ],
      "text/plain": [
       "<IPython.core.display.HTML object>"
      ]
     },
     "metadata": {},
     "output_type": "display_data"
    },
    {
     "data": {
      "text/html": [
       "Tracking run with wandb version 0.16.4"
      ],
      "text/plain": [
       "<IPython.core.display.HTML object>"
      ]
     },
     "metadata": {},
     "output_type": "display_data"
    },
    {
     "data": {
      "text/html": [
       "Run data is saved locally in <code>c:\\Users\\Neurophet\\Documents\\Codes\\Others_practice\\wandb\\run-20240402_092647-yjcoidbp</code>"
      ],
      "text/plain": [
       "<IPython.core.display.HTML object>"
      ]
     },
     "metadata": {},
     "output_type": "display_data"
    },
    {
     "data": {
      "text/html": [
       "Syncing run <strong><a href='https://wandb.ai/jd-hwang/CIFAR-10-classification/runs/yjcoidbp' target=\"_blank\">practice_vis</a></strong> to <a href='https://wandb.ai/jd-hwang/CIFAR-10-classification' target=\"_blank\">Weights & Biases</a> (<a href='https://wandb.me/run' target=\"_blank\">docs</a>)<br/>"
      ],
      "text/plain": [
       "<IPython.core.display.HTML object>"
      ]
     },
     "metadata": {},
     "output_type": "display_data"
    },
    {
     "data": {
      "text/html": [
       " View project at <a href='https://wandb.ai/jd-hwang/CIFAR-10-classification' target=\"_blank\">https://wandb.ai/jd-hwang/CIFAR-10-classification</a>"
      ],
      "text/plain": [
       "<IPython.core.display.HTML object>"
      ]
     },
     "metadata": {},
     "output_type": "display_data"
    },
    {
     "data": {
      "text/html": [
       " View run at <a href='https://wandb.ai/jd-hwang/CIFAR-10-classification/runs/yjcoidbp' target=\"_blank\">https://wandb.ai/jd-hwang/CIFAR-10-classification/runs/yjcoidbp</a>"
      ],
      "text/plain": [
       "<IPython.core.display.HTML object>"
      ]
     },
     "metadata": {},
     "output_type": "display_data"
    },
    {
     "data": {
      "text/html": [
       "<button onClick=\"this.nextSibling.style.display='block';this.style.display='none';\">Display W&B run</button><iframe src='https://wandb.ai/jd-hwang/CIFAR-10-classification/runs/yjcoidbp?jupyter=true' style='border:none;width:100%;height:420px;display:none;'></iframe>"
      ],
      "text/plain": [
       "<wandb.sdk.wandb_run.Run at 0x21be2e34c40>"
      ]
     },
     "execution_count": 5,
     "metadata": {},
     "output_type": "execute_result"
    }
   ],
   "source": [
    "wandb.init(\n",
    "    # set the wandb project where this run will be logged\n",
    "    project=\"CIFAR-10-classification\",\n",
    "    name = 'practice_vis',\n",
    "    # track hyperparameters and run metadata\n",
    "    config=config\n",
    "    )"
   ]
  },
  {
   "cell_type": "code",
   "execution_count": 6,
   "metadata": {},
   "outputs": [
    {
     "name": "stdout",
     "output_type": "stream",
     "text": [
      "Files already downloaded and verified\n",
      "Files already downloaded and verified\n"
     ]
    }
   ],
   "source": [
    "train_dataset = datasets.CIFAR10(root=\"./data/\",\n",
    "                                 train=True,\n",
    "                                 download=True,\n",
    "                                 transform=transforms.ToTensor())\n",
    "\n",
    "test_dataset = datasets.CIFAR10(root=\"./data/\",\n",
    "                                train=False,\n",
    "                                download=True,\n",
    "                                transform=transforms.ToTensor())\n"
   ]
  },
  {
   "cell_type": "code",
   "execution_count": 7,
   "metadata": {},
   "outputs": [
    {
     "name": "stdout",
     "output_type": "stream",
     "text": [
      "Dataset CIFAR10\n",
      "    Number of datapoints: 50000\n",
      "    Root location: ./data/\n",
      "    Split: Train\n",
      "    StandardTransform\n",
      "Transform: ToTensor()\n"
     ]
    }
   ],
   "source": [
    "BATCH_SIZE = batch_size\n",
    "train_loader = torch.utils.data.DataLoader(dataset=train_dataset,\n",
    "                                           batch_size=BATCH_SIZE,\n",
    "                                           shuffle=True)\n",
    "\n",
    "test_loader = torch.utils.data.DataLoader(dataset=test_dataset,\n",
    "                                          batch_size=BATCH_SIZE,\n",
    "                                          shuffle=False)\n",
    "\n",
    "print(train_loader.dataset)"
   ]
  },
  {
   "cell_type": "code",
   "execution_count": 8,
   "metadata": {},
   "outputs": [
    {
     "name": "stdout",
     "output_type": "stream",
     "text": [
      "X_train: torch.Size([32, 3, 32, 32]) type: torch.FloatTensor\n",
      "Y_train: torch.Size([32]) type: torch.LongTensor\n"
     ]
    }
   ],
   "source": [
    "for (X_train, Y_train) in train_loader:\n",
    "    print(f\"X_train: {X_train.size()} type: {X_train.type()}\")\n",
    "    print(f\"Y_train: {Y_train.size()} type: {Y_train.type()}\")\n",
    "    break"
   ]
  },
  {
   "cell_type": "code",
   "execution_count": 9,
   "metadata": {},
   "outputs": [],
   "source": [
    "class CNN(nn.Module):\n",
    "    def __init__(self):\n",
    "        super(CNN, self).__init__()\n",
    "        self.conv1 = nn.Conv2d(\n",
    "            in_channels=3,\n",
    "            out_channels=8,\n",
    "            kernel_size=3,\n",
    "            padding=1)\n",
    "        self.conv2 = nn.Conv2d(\n",
    "            in_channels=8,\n",
    "            out_channels=16,\n",
    "            kernel_size=3,\n",
    "            padding=1)\n",
    "        self.pool = nn.MaxPool2d(\n",
    "            kernel_size=2,\n",
    "            stride=2\n",
    "        )\n",
    "        self.fc1 = nn.Linear(8 * 8 * 16, 64)\n",
    "        self.fc2 = nn.Linear(64, 32)\n",
    "        self.fc3 = nn.Linear(32, 10)\n",
    "\n",
    "    def forward(self, x):\n",
    "        x = self.conv1(x)\n",
    "        x = torch.relu(x)\n",
    "        x = self.pool(x)\n",
    "        x = self.conv2(x)\n",
    "        x = torch.relu(x)\n",
    "        x = self.pool(x)\n",
    "\n",
    "        x = x.view(-1, 8 * 8 * 16)\n",
    "        x = self.fc1(x)\n",
    "        x = torch.relu(x)\n",
    "        x = self.fc2(x)\n",
    "        x = torch.relu(x)\n",
    "        x = self.fc3(x)\n",
    "        x = torch.log_softmax(x, dim=1)\n",
    "        return x"
   ]
  },
  {
   "cell_type": "code",
   "execution_count": 10,
   "metadata": {},
   "outputs": [
    {
     "name": "stdout",
     "output_type": "stream",
     "text": [
      "Using PyTorch version: 2.1.2, Device: cuda\n"
     ]
    }
   ],
   "source": [
    "DEVICE = torch.device(\"cuda\") if torch.cuda.is_available() else torch.device(\"cpu\")\n",
    "\n",
    "print(f\"Using PyTorch version: {torch.__version__}, Device: {DEVICE}\")\n",
    "\n",
    "model = CNN().to(DEVICE)\n",
    "\n",
    "if optimizer_type=='adam':\n",
    "    optimizer = torch.optim.Adam(model.parameters(), lr=learning_rate)\n",
    "elif optimizer_type =='sgd':\n",
    "    optimizer = torch.optim.SGD(model.parameters(), lr=learning_rate)\n",
    "else:\n",
    "    print(\"Invalid optimizer type!!\")\n",
    "    raise ValueError\n",
    "\n",
    "if loss_function_type == 'crossentrophy':\n",
    "    criterion = nn.CrossEntropyLoss()\n",
    "elif loss_function_type == 'bce':\n",
    "    criterion = nn.BCEWithLogitsLoss()\n",
    "else:\n",
    "    print(\"Invalid loss fuction type!!\")\n",
    "    raise ValueError"
   ]
  },
  {
   "cell_type": "code",
   "execution_count": 11,
   "metadata": {},
   "outputs": [],
   "source": [
    "def train(model, train_loader, optimizer, log_interval):\n",
    "    model.train()\n",
    "    train_loss=0\n",
    "    correct =0\n",
    "    for batch_idx, (image, label) in enumerate(train_loader):\n",
    "        image = image.to(DEVICE)\n",
    "        label = label.to(DEVICE)\n",
    "        optimizer.zero_grad()\n",
    "        output = model(image)\n",
    "        loss = criterion(output, label)\n",
    "        loss.backward()\n",
    "        optimizer.step()\n",
    "        \n",
    "        if batch_idx % log_interval == 0:\n",
    "            print(f\"train Epoch: {Epoch} [{batch_idx * len(image)}/{len(train_loader.dataset)}({100. * batch_idx / len(train_loader):.0f}%)]\\tTrain Loss: {loss.item()}\")\n",
    "\n",
    "        train_loss+=loss.item()\n",
    "        prediction = output.max(1, keepdim=True)[1]\n",
    "        correct += prediction.eq(label.view_as(prediction)).sum().item()\n",
    "    train_loss /= len(train_loader.dataset)\n",
    "    train_accuracy = 100. * correct / len(train_loader.dataset)\n",
    "    return train_loss, train_accuracy"
   ]
  },
  {
   "cell_type": "code",
   "execution_count": 12,
   "metadata": {},
   "outputs": [],
   "source": [
    "cifar_dict = {0:\"airplane\",\n",
    "              1:\"automobile (but not truck or pickup truck)\",\n",
    "               2: \"bird\", 3:\"cat\", 4:\"deer\", 5:\"dog\", 6:\"frog\",\n",
    "               7:\"horse\", 8:\"ship\", 9:\"truck (but not pickup truck)\"}\n",
    "\n",
    "result_table = wandb.Table(columns=['Batch','Input','Target','Prediction'])"
   ]
  },
  {
   "cell_type": "code",
   "execution_count": 15,
   "metadata": {},
   "outputs": [],
   "source": [
    "def evaluate(model, test_loader):\n",
    "    model.eval()\n",
    "    test_loss = 0\n",
    "    correct = 0\n",
    "    vis_output = {'image':[],'label':[],'prediction':[]}\n",
    "    with torch.no_grad():\n",
    "        for batch_idx, (image, label) in enumerate(test_loader):\n",
    "            image = image.to(DEVICE)\n",
    "            label = label.to(DEVICE)\n",
    "            output = model(image)\n",
    "            \n",
    "            test_loss += criterion(output, label).item()\n",
    "            prediction = output.max(1, keepdim=True)[1]\n",
    "            correct += prediction.eq(label.view_as(prediction)).sum().item()\n",
    "\n",
    "            ### Visualization 코드 추가 ###\n",
    "            image_vis = wandb.Image(image[0,:,:,:].detach().cpu().numpy().transpose(1,2,0))\n",
    "            label_vis = cifar_dict[int(label[0].detach().cpu().numpy())]\n",
    "            prediction_vis = cifar_dict[int(prediction[0].detach().cpu().numpy())]\n",
    "            result_table.add_data(batch_idx+1,image_vis,label_vis,prediction_vis)\n",
    "\n",
    "    test_loss /= len(test_loader.dataset)\n",
    "    test_accuracy = 100. * correct / len(test_loader.dataset)\n",
    "    return test_loss, test_accuracy"
   ]
  },
  {
   "cell_type": "code",
   "execution_count": 16,
   "metadata": {},
   "outputs": [
    {
     "name": "stdout",
     "output_type": "stream",
     "text": [
      "train Epoch: 1 [0/50000(0%)]\tTrain Loss: 1.595810890197754\n",
      "train Epoch: 1 [6400/50000(13%)]\tTrain Loss: 1.6112468242645264\n",
      "train Epoch: 1 [12800/50000(26%)]\tTrain Loss: 1.4251495599746704\n",
      "train Epoch: 1 [19200/50000(38%)]\tTrain Loss: 1.1667075157165527\n",
      "train Epoch: 1 [25600/50000(51%)]\tTrain Loss: 1.416611909866333\n",
      "train Epoch: 1 [32000/50000(64%)]\tTrain Loss: 1.2350395917892456\n",
      "train Epoch: 1 [38400/50000(77%)]\tTrain Loss: 1.470850944519043\n",
      "train Epoch: 1 [44800/50000(90%)]\tTrain Loss: 1.2938077449798584\n"
     ]
    },
    {
     "name": "stderr",
     "output_type": "stream",
     "text": [
      "C:\\Users\\Neurophet\\AppData\\Local\\Temp\\ipykernel_378816\\3916034034.py:19: DeprecationWarning: Conversion of an array with ndim > 0 to a scalar is deprecated, and will error in future. Ensure you extract a single element from your array before performing this operation. (Deprecated NumPy 1.25.)\n",
      "  prediction_vis = cifar_dict[int(prediction[0].detach().cpu().numpy())]\n"
     ]
    },
    {
     "name": "stdout",
     "output_type": "stream",
     "text": [
      "\n",
      "[EPOCH: 1]\tTest Loss: 0.0426\tTest Accuracy: 51.05 % \n",
      "\n",
      "train Epoch: 2 [0/50000(0%)]\tTrain Loss: 1.2748353481292725\n",
      "train Epoch: 2 [6400/50000(13%)]\tTrain Loss: 1.1606303453445435\n",
      "train Epoch: 2 [12800/50000(26%)]\tTrain Loss: 0.9092446565628052\n",
      "train Epoch: 2 [19200/50000(38%)]\tTrain Loss: 1.4262925386428833\n",
      "train Epoch: 2 [25600/50000(51%)]\tTrain Loss: 1.165563941001892\n",
      "train Epoch: 2 [32000/50000(64%)]\tTrain Loss: 1.1344510316848755\n",
      "train Epoch: 2 [38400/50000(77%)]\tTrain Loss: 1.4912761449813843\n",
      "train Epoch: 2 [44800/50000(90%)]\tTrain Loss: 1.0572696924209595\n"
     ]
    },
    {
     "name": "stderr",
     "output_type": "stream",
     "text": [
      "C:\\Users\\Neurophet\\AppData\\Local\\Temp\\ipykernel_378816\\3916034034.py:19: DeprecationWarning: Conversion of an array with ndim > 0 to a scalar is deprecated, and will error in future. Ensure you extract a single element from your array before performing this operation. (Deprecated NumPy 1.25.)\n",
      "  prediction_vis = cifar_dict[int(prediction[0].detach().cpu().numpy())]\n"
     ]
    },
    {
     "name": "stdout",
     "output_type": "stream",
     "text": [
      "\n",
      "[EPOCH: 2]\tTest Loss: 0.0390\tTest Accuracy: 55.07 % \n",
      "\n",
      "train Epoch: 3 [0/50000(0%)]\tTrain Loss: 1.4161114692687988\n",
      "train Epoch: 3 [6400/50000(13%)]\tTrain Loss: 1.0550179481506348\n",
      "train Epoch: 3 [12800/50000(26%)]\tTrain Loss: 1.1882760524749756\n",
      "train Epoch: 3 [19200/50000(38%)]\tTrain Loss: 1.3223429918289185\n",
      "train Epoch: 3 [25600/50000(51%)]\tTrain Loss: 1.0347301959991455\n",
      "train Epoch: 3 [32000/50000(64%)]\tTrain Loss: 1.0797513723373413\n",
      "train Epoch: 3 [38400/50000(77%)]\tTrain Loss: 0.9948922991752625\n",
      "train Epoch: 3 [44800/50000(90%)]\tTrain Loss: 1.4131133556365967\n",
      "\n",
      "[EPOCH: 3]\tTest Loss: 0.0372\tTest Accuracy: 57.67 % \n",
      "\n",
      "train Epoch: 4 [0/50000(0%)]\tTrain Loss: 1.1939663887023926\n",
      "train Epoch: 4 [6400/50000(13%)]\tTrain Loss: 1.1493934392929077\n",
      "train Epoch: 4 [12800/50000(26%)]\tTrain Loss: 1.4972683191299438\n",
      "train Epoch: 4 [19200/50000(38%)]\tTrain Loss: 1.0867326259613037\n",
      "train Epoch: 4 [25600/50000(51%)]\tTrain Loss: 1.016400933265686\n",
      "train Epoch: 4 [32000/50000(64%)]\tTrain Loss: 0.9952110648155212\n",
      "train Epoch: 4 [38400/50000(77%)]\tTrain Loss: 1.3588708639144897\n",
      "train Epoch: 4 [44800/50000(90%)]\tTrain Loss: 1.1802382469177246\n",
      "\n",
      "[EPOCH: 4]\tTest Loss: 0.0352\tTest Accuracy: 60.17 % \n",
      "\n",
      "train Epoch: 5 [0/50000(0%)]\tTrain Loss: 0.914687991142273\n",
      "train Epoch: 5 [6400/50000(13%)]\tTrain Loss: 1.0816453695297241\n",
      "train Epoch: 5 [12800/50000(26%)]\tTrain Loss: 0.8360699415206909\n",
      "train Epoch: 5 [19200/50000(38%)]\tTrain Loss: 1.1844877004623413\n",
      "train Epoch: 5 [25600/50000(51%)]\tTrain Loss: 0.8338260650634766\n",
      "train Epoch: 5 [32000/50000(64%)]\tTrain Loss: 1.1338245868682861\n",
      "train Epoch: 5 [38400/50000(77%)]\tTrain Loss: 1.2413421869277954\n",
      "train Epoch: 5 [44800/50000(90%)]\tTrain Loss: 1.2118871212005615\n",
      "\n",
      "[EPOCH: 5]\tTest Loss: 0.0346\tTest Accuracy: 60.15 % \n",
      "\n"
     ]
    },
    {
     "data": {
      "text/html": [
       "<style>\n",
       "    table.wandb td:nth-child(1) { padding: 0 10px; text-align: left ; width: auto;} td:nth-child(2) {text-align: left ; width: 100%}\n",
       "    .wandb-row { display: flex; flex-direction: row; flex-wrap: wrap; justify-content: flex-start; width: 100% }\n",
       "    .wandb-col { display: flex; flex-direction: column; flex-basis: 100%; flex: 1; padding: 10px; }\n",
       "    </style>\n",
       "<div class=\"wandb-row\"><div class=\"wandb-col\"><h3>Run history:</h3><br/><table class=\"wandb\"><tr><td>Test_acc</td><td>▁▄▆██</td></tr><tr><td>Test_loss</td><td>█▅▃▂▁</td></tr><tr><td>Train_acc</td><td>▁▄▆▇█</td></tr><tr><td>Train_loss</td><td>█▅▃▂▁</td></tr></table><br/></div><div class=\"wandb-col\"><h3>Run summary:</h3><br/><table class=\"wandb\"><tr><td>Test_acc</td><td>60.15</td></tr><tr><td>Test_loss</td><td>0.03458</td></tr><tr><td>Train_acc</td><td>61.322</td></tr><tr><td>Train_loss</td><td>0.03393</td></tr></table><br/></div></div>"
      ],
      "text/plain": [
       "<IPython.core.display.HTML object>"
      ]
     },
     "metadata": {},
     "output_type": "display_data"
    },
    {
     "data": {
      "text/html": [
       " View run <strong style=\"color:#cdcd00\">practice_vis</strong> at: <a href='https://wandb.ai/jd-hwang/CIFAR-10-classification/runs/yjcoidbp' target=\"_blank\">https://wandb.ai/jd-hwang/CIFAR-10-classification/runs/yjcoidbp</a><br/>Synced 6 W&B file(s), 1 media file(s), 314 artifact file(s) and 0 other file(s)"
      ],
      "text/plain": [
       "<IPython.core.display.HTML object>"
      ]
     },
     "metadata": {},
     "output_type": "display_data"
    },
    {
     "data": {
      "text/html": [
       "Find logs at: <code>.\\wandb\\run-20240402_092647-yjcoidbp\\logs</code>"
      ],
      "text/plain": [
       "<IPython.core.display.HTML object>"
      ]
     },
     "metadata": {},
     "output_type": "display_data"
    }
   ],
   "source": [
    "EPOCHS = 5\n",
    "for Epoch in range(1, EPOCHS + 1):\n",
    "    train_loss, train_accuracy = train(model, train_loader, optimizer, log_interval=200)\n",
    "    test_loss, test_accuracy = evaluate(model, test_loader)\n",
    "    print(f\"\\n[EPOCH: {Epoch}]\\tTest Loss: {test_loss:.4f}\\tTest Accuracy: {test_accuracy} % \\n\")\n",
    "\n",
    "    wandb.log({\"Train_loss\":train_loss,\"Train_acc\":train_accuracy,\n",
    "               \"Test_loss\":test_loss,\"Test_acc\":test_accuracy,\"Result_table\":result_table})\n",
    "\n",
    "wandb.finish()"
   ]
  },
  {
   "cell_type": "code",
   "execution_count": null,
   "metadata": {},
   "outputs": [],
   "source": []
  }
 ],
 "metadata": {
  "kernelspec": {
   "display_name": "JD_py117",
   "language": "python",
   "name": "python3"
  },
  "language_info": {
   "codemirror_mode": {
    "name": "ipython",
    "version": 3
   },
   "file_extension": ".py",
   "mimetype": "text/x-python",
   "name": "python",
   "nbconvert_exporter": "python",
   "pygments_lexer": "ipython3",
   "version": "3.10.13"
  }
 },
 "nbformat": 4,
 "nbformat_minor": 2
}
