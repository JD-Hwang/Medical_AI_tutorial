{
 "cells": [
  {
   "cell_type": "code",
   "execution_count": 20,
   "metadata": {},
   "outputs": [],
   "source": [
    "import wandb\n",
    "import configparser\n",
    "import torch\n",
    "import torch.nn as nn\n",
    "from torchvision import datasets, transforms\n",
    "import wandb"
   ]
  },
  {
   "cell_type": "code",
   "execution_count": 2,
   "metadata": {},
   "outputs": [
    {
     "name": "stdout",
     "output_type": "stream",
     "text": [
      "cuda\n"
     ]
    }
   ],
   "source": [
    "device = torch.device(\"cuda\" if torch.cuda.is_available() else \"cpu\")\n",
    "print(device)"
   ]
  },
  {
   "cell_type": "markdown",
   "metadata": {},
   "source": [
    "## Config parser 불러오기"
   ]
  },
  {
   "cell_type": "code",
   "execution_count": 3,
   "metadata": {},
   "outputs": [],
   "source": [
    "def load_config(config_path:str) -> dict:\n",
    "    config = configparser.ConfigParser()    \n",
    "    config.read(config_path, encoding='utf-8') \n",
    "    # print(config.sections())\n",
    "    \n",
    "    new_dict = {}\n",
    "    for section in config.sections():\n",
    "        new_dict[section] = dict()\n",
    "        for value in config[section]:\n",
    "            try:\n",
    "                new_value = float(config[section][value])\n",
    "                new_dict[section][value] = new_value\n",
    "            except ValueError:\n",
    "                new_value = config[section][value].lower()\n",
    "                if new_value in ['y','yes','true','t','on']:\n",
    "                    new_dict[section][value] = True\n",
    "                elif new_value in ['n','no','false','f','off']:\n",
    "                    new_dict[section][value] = False\n",
    "                else:\n",
    "                    new_dict[section][value] = [int(i) for i in eval(config[section][value])]\n",
    "    return new_dict"
   ]
  },
  {
   "cell_type": "code",
   "execution_count": 4,
   "metadata": {},
   "outputs": [],
   "source": [
    "config = configparser.ConfigParser()    \n",
    "config.read(\"config_cifar.ini\", encoding='utf-8') \n",
    "\n",
    "batch_size = config['TRAINING'].getint('batch_size')\n",
    "epochs = config['TRAINING'].getint('epoch')\n",
    "learning_rate = config['TRAINING'].getfloat('learning_rate')\n",
    "optimizer_type = config['TRAINING']['optimizer'].lower()\n",
    "loss_function_type = config['TRAINING']['loss_function'].lower()"
   ]
  },
  {
   "cell_type": "markdown",
   "metadata": {},
   "source": [
    "## Wandb initialize"
   ]
  },
  {
   "cell_type": "code",
   "execution_count": 21,
   "metadata": {},
   "outputs": [],
   "source": [
    "wandb.init(\n",
    "    # set the wandb project where this run will be logged\n",
    "    project=\"CIFAR-10-classification\",\n",
    "    name = 'practice_1',\n",
    "    # track hyperparameters and run metadata\n",
    "    config=config\n",
    "    )"
   ]
  },
  {
   "cell_type": "code",
   "execution_count": 6,
   "metadata": {},
   "outputs": [
    {
     "name": "stdout",
     "output_type": "stream",
     "text": [
      "Files already downloaded and verified\n",
      "Files already downloaded and verified\n"
     ]
    }
   ],
   "source": [
    "train_dataset = datasets.CIFAR10(root=\"./data/\",\n",
    "                                 train=True,\n",
    "                                 download=True,\n",
    "                                 transform=transforms.ToTensor())\n",
    "\n",
    "test_dataset = datasets.CIFAR10(root=\"./data/\",\n",
    "                                train=False,\n",
    "                                download=True,\n",
    "                                transform=transforms.ToTensor())\n"
   ]
  },
  {
   "cell_type": "code",
   "execution_count": 7,
   "metadata": {},
   "outputs": [
    {
     "name": "stdout",
     "output_type": "stream",
     "text": [
      "Dataset CIFAR10\n",
      "    Number of datapoints: 50000\n",
      "    Root location: ./data/\n",
      "    Split: Train\n",
      "    StandardTransform\n",
      "Transform: ToTensor()\n"
     ]
    }
   ],
   "source": [
    "BATCH_SIZE = batch_size\n",
    "train_loader = torch.utils.data.DataLoader(dataset=train_dataset,\n",
    "                                           batch_size=BATCH_SIZE,\n",
    "                                           shuffle=True)\n",
    "\n",
    "test_loader = torch.utils.data.DataLoader(dataset=test_dataset,\n",
    "                                          batch_size=BATCH_SIZE,\n",
    "                                          shuffle=False)\n",
    "\n",
    "print(train_loader.dataset)"
   ]
  },
  {
   "cell_type": "code",
   "execution_count": 8,
   "metadata": {},
   "outputs": [
    {
     "name": "stdout",
     "output_type": "stream",
     "text": [
      "X_train: torch.Size([32, 3, 32, 32]) type: torch.FloatTensor\n",
      "Y_train: torch.Size([32]) type: torch.LongTensor\n"
     ]
    }
   ],
   "source": [
    "for (X_train, Y_train) in train_loader:\n",
    "    print(f\"X_train: {X_train.size()} type: {X_train.type()}\")\n",
    "    print(f\"Y_train: {Y_train.size()} type: {Y_train.type()}\")\n",
    "    break"
   ]
  },
  {
   "cell_type": "code",
   "execution_count": 9,
   "metadata": {},
   "outputs": [],
   "source": [
    "class CNN(nn.Module):\n",
    "    def __init__(self):\n",
    "        super(CNN, self).__init__()\n",
    "        self.conv1 = nn.Conv2d(\n",
    "            in_channels=3,\n",
    "            out_channels=8,\n",
    "            kernel_size=3,\n",
    "            padding=1)\n",
    "        self.conv2 = nn.Conv2d(\n",
    "            in_channels=8,\n",
    "            out_channels=16,\n",
    "            kernel_size=3,\n",
    "            padding=1)\n",
    "        self.pool = nn.MaxPool2d(\n",
    "            kernel_size=2,\n",
    "            stride=2\n",
    "        )\n",
    "        self.fc1 = nn.Linear(8 * 8 * 16, 64)\n",
    "        self.fc2 = nn.Linear(64, 32)\n",
    "        self.fc3 = nn.Linear(32, 10)\n",
    "\n",
    "    def forward(self, x):\n",
    "        x = self.conv1(x)\n",
    "        x = torch.relu(x)\n",
    "        x = self.pool(x)\n",
    "        x = self.conv2(x)\n",
    "        x = torch.relu(x)\n",
    "        x = self.pool(x)\n",
    "\n",
    "        x = x.view(-1, 8 * 8 * 16)\n",
    "        x = self.fc1(x)\n",
    "        x = torch.relu(x)\n",
    "        x = self.fc2(x)\n",
    "        x = torch.relu(x)\n",
    "        x = self.fc3(x)\n",
    "        x = torch.log_softmax(x, dim=1)\n",
    "        return x"
   ]
  },
  {
   "cell_type": "code",
   "execution_count": 10,
   "metadata": {},
   "outputs": [
    {
     "name": "stdout",
     "output_type": "stream",
     "text": [
      "Using PyTorch version: 2.1.2, Device: cuda\n"
     ]
    }
   ],
   "source": [
    "DEVICE = torch.device(\"cuda\") if torch.cuda.is_available() else torch.device(\"cpu\")\n",
    "\n",
    "print(f\"Using PyTorch version: {torch.__version__}, Device: {DEVICE}\")\n",
    "\n",
    "model = CNN().to(DEVICE)\n",
    "\n",
    "if optimizer_type=='adam':\n",
    "    optimizer = torch.optim.Adam(model.parameters(), lr=learning_rate)\n",
    "elif optimizer_type =='sgd':\n",
    "    optimizer = torch.optim.SGD(model.parameters(), lr=learning_rate)\n",
    "else:\n",
    "    print(\"Invalid optimizer type!!\")\n",
    "    raise ValueError\n",
    "\n",
    "if loss_function_type == 'crossentrophy':\n",
    "    criterion = nn.CrossEntropyLoss()\n",
    "elif loss_function_type == 'bce':\n",
    "    criterion = nn.BCEWithLogitsLoss()\n",
    "else:\n",
    "    print(\"Invalid loss fuction type!!\")\n",
    "    raise ValueError"
   ]
  },
  {
   "cell_type": "code",
   "execution_count": 17,
   "metadata": {},
   "outputs": [],
   "source": [
    "def train(model, train_loader, optimizer, log_interval):\n",
    "    model.train()\n",
    "    train_loss=0\n",
    "    correct =0\n",
    "    for batch_idx, (image, label) in enumerate(train_loader):\n",
    "        image = image.to(DEVICE)\n",
    "        label = label.to(DEVICE)\n",
    "        optimizer.zero_grad()\n",
    "        output = model(image)\n",
    "        loss = criterion(output, label)\n",
    "        loss.backward()\n",
    "        optimizer.step()\n",
    "        \n",
    "        if batch_idx % log_interval == 0:\n",
    "            print(f\"train Epoch: {Epoch} [{batch_idx * len(image)}/{len(train_loader.dataset)}({100. * batch_idx / len(train_loader):.0f}%)]\\tTrain Loss: {loss.item()}\")\n",
    "\n",
    "        train_loss+=loss.item()\n",
    "        prediction = output.max(1, keepdim=True)[1]\n",
    "        correct += prediction.eq(label.view_as(prediction)).sum().item()\n",
    "    train_loss /= len(train_loader.dataset)\n",
    "    train_accuracy = 100. * correct / len(train_loader.dataset)\n",
    "    return train_loss, train_accuracy"
   ]
  },
  {
   "cell_type": "code",
   "execution_count": 18,
   "metadata": {},
   "outputs": [],
   "source": [
    "def evaluate(model, test_loader):\n",
    "    model.eval()\n",
    "    test_loss = 0\n",
    "    correct = 0\n",
    "    with torch.no_grad():\n",
    "        for image, label in test_loader:\n",
    "            image = image.to(DEVICE)\n",
    "            label = label.to(DEVICE)\n",
    "            output = model(image)\n",
    "            test_loss += criterion(output, label).item()\n",
    "            prediction = output.max(1, keepdim=True)[1]\n",
    "            correct += prediction.eq(label.view_as(prediction)).sum().item()\n",
    "\n",
    "    test_loss /= len(test_loader.dataset)\n",
    "    test_accuracy = 100. * correct / len(test_loader.dataset)\n",
    "    return test_loss, test_accuracy"
   ]
  },
  {
   "cell_type": "code",
   "execution_count": 19,
   "metadata": {},
   "outputs": [
    {
     "name": "stdout",
     "output_type": "stream",
     "text": [
      "train Epoch: 1 [0/50000(0%)]\tTrain Loss: 1.5963411331176758\n",
      "train Epoch: 1 [6400/50000(13%)]\tTrain Loss: 1.4888315200805664\n",
      "train Epoch: 1 [12800/50000(26%)]\tTrain Loss: 1.3174375295639038\n",
      "train Epoch: 1 [19200/50000(38%)]\tTrain Loss: 1.3333320617675781\n",
      "train Epoch: 1 [25600/50000(51%)]\tTrain Loss: 1.6345903873443604\n",
      "train Epoch: 1 [32000/50000(64%)]\tTrain Loss: 1.347216010093689\n",
      "train Epoch: 1 [38400/50000(77%)]\tTrain Loss: 1.2516660690307617\n",
      "train Epoch: 1 [44800/50000(90%)]\tTrain Loss: 1.4458508491516113\n",
      "\n",
      "[EPOCH: 1]\tTest Loss: 0.0420\tTest Accuracy: 51.76 % \n",
      "\n",
      "train Epoch: 2 [0/50000(0%)]\tTrain Loss: 0.9427995681762695\n",
      "train Epoch: 2 [6400/50000(13%)]\tTrain Loss: 1.2183690071105957\n",
      "train Epoch: 2 [12800/50000(26%)]\tTrain Loss: 1.2432805299758911\n",
      "train Epoch: 2 [19200/50000(38%)]\tTrain Loss: 1.3746626377105713\n",
      "train Epoch: 2 [25600/50000(51%)]\tTrain Loss: 1.3797105550765991\n",
      "train Epoch: 2 [32000/50000(64%)]\tTrain Loss: 1.1285067796707153\n",
      "train Epoch: 2 [38400/50000(77%)]\tTrain Loss: 1.4467942714691162\n",
      "train Epoch: 2 [44800/50000(90%)]\tTrain Loss: 1.2620086669921875\n",
      "\n",
      "[EPOCH: 2]\tTest Loss: 0.0419\tTest Accuracy: 52.73 % \n",
      "\n",
      "train Epoch: 3 [0/50000(0%)]\tTrain Loss: 1.3572545051574707\n",
      "train Epoch: 3 [6400/50000(13%)]\tTrain Loss: 1.0394448041915894\n",
      "train Epoch: 3 [12800/50000(26%)]\tTrain Loss: 1.2633064985275269\n",
      "train Epoch: 3 [19200/50000(38%)]\tTrain Loss: 0.720212996006012\n",
      "train Epoch: 3 [25600/50000(51%)]\tTrain Loss: 1.496422529220581\n",
      "train Epoch: 3 [32000/50000(64%)]\tTrain Loss: 1.1679768562316895\n",
      "train Epoch: 3 [38400/50000(77%)]\tTrain Loss: 1.199521780014038\n",
      "train Epoch: 3 [44800/50000(90%)]\tTrain Loss: 0.9618391990661621\n",
      "\n",
      "[EPOCH: 3]\tTest Loss: 0.0373\tTest Accuracy: 57.4 % \n",
      "\n",
      "train Epoch: 4 [0/50000(0%)]\tTrain Loss: 1.2626882791519165\n",
      "train Epoch: 4 [6400/50000(13%)]\tTrain Loss: 1.0917292833328247\n",
      "train Epoch: 4 [12800/50000(26%)]\tTrain Loss: 1.0396356582641602\n",
      "train Epoch: 4 [19200/50000(38%)]\tTrain Loss: 1.0990800857543945\n",
      "train Epoch: 4 [25600/50000(51%)]\tTrain Loss: 0.9679866433143616\n",
      "train Epoch: 4 [32000/50000(64%)]\tTrain Loss: 1.1437283754348755\n",
      "train Epoch: 4 [38400/50000(77%)]\tTrain Loss: 1.1674731969833374\n",
      "train Epoch: 4 [44800/50000(90%)]\tTrain Loss: 0.9309691786766052\n",
      "\n",
      "[EPOCH: 4]\tTest Loss: 0.0367\tTest Accuracy: 58.27 % \n",
      "\n",
      "train Epoch: 5 [0/50000(0%)]\tTrain Loss: 1.3961411714553833\n",
      "train Epoch: 5 [6400/50000(13%)]\tTrain Loss: 0.7972778677940369\n",
      "train Epoch: 5 [12800/50000(26%)]\tTrain Loss: 0.946426510810852\n",
      "train Epoch: 5 [19200/50000(38%)]\tTrain Loss: 0.9359071850776672\n",
      "train Epoch: 5 [25600/50000(51%)]\tTrain Loss: 0.9579704999923706\n",
      "train Epoch: 5 [32000/50000(64%)]\tTrain Loss: 0.8337414860725403\n",
      "train Epoch: 5 [38400/50000(77%)]\tTrain Loss: 1.0419949293136597\n",
      "train Epoch: 5 [44800/50000(90%)]\tTrain Loss: 1.0081228017807007\n",
      "\n",
      "[EPOCH: 5]\tTest Loss: 0.0347\tTest Accuracy: 60.69 % \n",
      "\n",
      "train Epoch: 6 [0/50000(0%)]\tTrain Loss: 0.8833725452423096\n",
      "train Epoch: 6 [6400/50000(13%)]\tTrain Loss: 1.3351812362670898\n",
      "train Epoch: 6 [12800/50000(26%)]\tTrain Loss: 1.1182955503463745\n",
      "train Epoch: 6 [19200/50000(38%)]\tTrain Loss: 1.0238122940063477\n",
      "train Epoch: 6 [25600/50000(51%)]\tTrain Loss: 1.064120888710022\n",
      "train Epoch: 6 [32000/50000(64%)]\tTrain Loss: 1.0205485820770264\n",
      "train Epoch: 6 [38400/50000(77%)]\tTrain Loss: 1.0153281688690186\n",
      "train Epoch: 6 [44800/50000(90%)]\tTrain Loss: 1.108912706375122\n",
      "\n",
      "[EPOCH: 6]\tTest Loss: 0.0346\tTest Accuracy: 60.66 % \n",
      "\n",
      "train Epoch: 7 [0/50000(0%)]\tTrain Loss: 1.6709184646606445\n",
      "train Epoch: 7 [6400/50000(13%)]\tTrain Loss: 0.8772541284561157\n",
      "train Epoch: 7 [12800/50000(26%)]\tTrain Loss: 1.2636922597885132\n",
      "train Epoch: 7 [19200/50000(38%)]\tTrain Loss: 1.0167137384414673\n",
      "train Epoch: 7 [25600/50000(51%)]\tTrain Loss: 0.6196394562721252\n",
      "train Epoch: 7 [32000/50000(64%)]\tTrain Loss: 0.8465598821640015\n",
      "train Epoch: 7 [38400/50000(77%)]\tTrain Loss: 1.2091832160949707\n",
      "train Epoch: 7 [44800/50000(90%)]\tTrain Loss: 0.8169882297515869\n",
      "\n",
      "[EPOCH: 7]\tTest Loss: 0.0339\tTest Accuracy: 62.71 % \n",
      "\n",
      "train Epoch: 8 [0/50000(0%)]\tTrain Loss: 1.114579677581787\n",
      "train Epoch: 8 [6400/50000(13%)]\tTrain Loss: 1.3376656770706177\n",
      "train Epoch: 8 [12800/50000(26%)]\tTrain Loss: 0.7262886762619019\n",
      "train Epoch: 8 [19200/50000(38%)]\tTrain Loss: 0.965133786201477\n",
      "train Epoch: 8 [25600/50000(51%)]\tTrain Loss: 0.9118571281433105\n",
      "train Epoch: 8 [32000/50000(64%)]\tTrain Loss: 0.8954684734344482\n",
      "train Epoch: 8 [38400/50000(77%)]\tTrain Loss: 0.98396235704422\n",
      "train Epoch: 8 [44800/50000(90%)]\tTrain Loss: 0.9682116508483887\n",
      "\n",
      "[EPOCH: 8]\tTest Loss: 0.0324\tTest Accuracy: 63.41 % \n",
      "\n",
      "train Epoch: 9 [0/50000(0%)]\tTrain Loss: 0.6158641576766968\n",
      "train Epoch: 9 [6400/50000(13%)]\tTrain Loss: 0.9017940163612366\n",
      "train Epoch: 9 [12800/50000(26%)]\tTrain Loss: 0.7230952978134155\n",
      "train Epoch: 9 [19200/50000(38%)]\tTrain Loss: 0.9850993156433105\n",
      "train Epoch: 9 [25600/50000(51%)]\tTrain Loss: 0.9562800526618958\n",
      "train Epoch: 9 [32000/50000(64%)]\tTrain Loss: 1.4706218242645264\n",
      "train Epoch: 9 [38400/50000(77%)]\tTrain Loss: 0.8406128883361816\n",
      "train Epoch: 9 [44800/50000(90%)]\tTrain Loss: 1.3098177909851074\n",
      "\n",
      "[EPOCH: 9]\tTest Loss: 0.0319\tTest Accuracy: 64.61 % \n",
      "\n",
      "train Epoch: 10 [0/50000(0%)]\tTrain Loss: 0.543638288974762\n",
      "train Epoch: 10 [6400/50000(13%)]\tTrain Loss: 0.9792416095733643\n",
      "train Epoch: 10 [12800/50000(26%)]\tTrain Loss: 1.0808993577957153\n",
      "train Epoch: 10 [19200/50000(38%)]\tTrain Loss: 1.0350842475891113\n",
      "train Epoch: 10 [25600/50000(51%)]\tTrain Loss: 0.9406867027282715\n",
      "train Epoch: 10 [32000/50000(64%)]\tTrain Loss: 0.7209476232528687\n",
      "train Epoch: 10 [38400/50000(77%)]\tTrain Loss: 0.8507208824157715\n",
      "train Epoch: 10 [44800/50000(90%)]\tTrain Loss: 0.962828516960144\n",
      "\n",
      "[EPOCH: 10]\tTest Loss: 0.0329\tTest Accuracy: 63.36 % \n",
      "\n",
      "train Epoch: 11 [0/50000(0%)]\tTrain Loss: 0.9417265057563782\n",
      "train Epoch: 11 [6400/50000(13%)]\tTrain Loss: 0.5207643508911133\n",
      "train Epoch: 11 [12800/50000(26%)]\tTrain Loss: 0.7026581764221191\n",
      "train Epoch: 11 [19200/50000(38%)]\tTrain Loss: 0.7422975897789001\n",
      "train Epoch: 11 [25600/50000(51%)]\tTrain Loss: 0.8467881679534912\n",
      "train Epoch: 11 [32000/50000(64%)]\tTrain Loss: 0.9708398580551147\n",
      "train Epoch: 11 [38400/50000(77%)]\tTrain Loss: 1.1626943349838257\n",
      "train Epoch: 11 [44800/50000(90%)]\tTrain Loss: 1.1775755882263184\n",
      "\n",
      "[EPOCH: 11]\tTest Loss: 0.0331\tTest Accuracy: 63.54 % \n",
      "\n",
      "train Epoch: 12 [0/50000(0%)]\tTrain Loss: 0.7118062973022461\n",
      "train Epoch: 12 [6400/50000(13%)]\tTrain Loss: 0.972562849521637\n",
      "train Epoch: 12 [12800/50000(26%)]\tTrain Loss: 0.9795005321502686\n",
      "train Epoch: 12 [19200/50000(38%)]\tTrain Loss: 0.9717305302619934\n",
      "train Epoch: 12 [25600/50000(51%)]\tTrain Loss: 0.8576303124427795\n",
      "train Epoch: 12 [32000/50000(64%)]\tTrain Loss: 0.7892242074012756\n",
      "train Epoch: 12 [38400/50000(77%)]\tTrain Loss: 0.5919812321662903\n",
      "train Epoch: 12 [44800/50000(90%)]\tTrain Loss: 0.9894481897354126\n",
      "\n",
      "[EPOCH: 12]\tTest Loss: 0.0318\tTest Accuracy: 65.07 % \n",
      "\n",
      "train Epoch: 13 [0/50000(0%)]\tTrain Loss: 0.726094663143158\n",
      "train Epoch: 13 [6400/50000(13%)]\tTrain Loss: 0.7088092565536499\n",
      "train Epoch: 13 [12800/50000(26%)]\tTrain Loss: 0.6334971785545349\n",
      "train Epoch: 13 [19200/50000(38%)]\tTrain Loss: 0.6397072076797485\n",
      "train Epoch: 13 [25600/50000(51%)]\tTrain Loss: 0.4913305342197418\n",
      "train Epoch: 13 [32000/50000(64%)]\tTrain Loss: 0.5997406244277954\n",
      "train Epoch: 13 [38400/50000(77%)]\tTrain Loss: 0.7210542559623718\n",
      "train Epoch: 13 [44800/50000(90%)]\tTrain Loss: 0.814563512802124\n",
      "\n",
      "[EPOCH: 13]\tTest Loss: 0.0328\tTest Accuracy: 63.82 % \n",
      "\n",
      "train Epoch: 14 [0/50000(0%)]\tTrain Loss: 0.7550100088119507\n",
      "train Epoch: 14 [6400/50000(13%)]\tTrain Loss: 0.7202351689338684\n",
      "train Epoch: 14 [12800/50000(26%)]\tTrain Loss: 0.9506906867027283\n",
      "train Epoch: 14 [19200/50000(38%)]\tTrain Loss: 0.7574121952056885\n",
      "train Epoch: 14 [25600/50000(51%)]\tTrain Loss: 0.6304658055305481\n",
      "train Epoch: 14 [32000/50000(64%)]\tTrain Loss: 0.5937759280204773\n",
      "train Epoch: 14 [38400/50000(77%)]\tTrain Loss: 0.6016624569892883\n",
      "train Epoch: 14 [44800/50000(90%)]\tTrain Loss: 0.6331515908241272\n",
      "\n",
      "[EPOCH: 14]\tTest Loss: 0.0332\tTest Accuracy: 63.81 % \n",
      "\n",
      "train Epoch: 15 [0/50000(0%)]\tTrain Loss: 0.5869631171226501\n",
      "train Epoch: 15 [6400/50000(13%)]\tTrain Loss: 0.7030785083770752\n",
      "train Epoch: 15 [12800/50000(26%)]\tTrain Loss: 0.7529700994491577\n",
      "train Epoch: 15 [19200/50000(38%)]\tTrain Loss: 0.8612087368965149\n",
      "train Epoch: 15 [25600/50000(51%)]\tTrain Loss: 1.03133225440979\n",
      "train Epoch: 15 [32000/50000(64%)]\tTrain Loss: 0.6549010872840881\n",
      "train Epoch: 15 [38400/50000(77%)]\tTrain Loss: 0.6795467734336853\n",
      "train Epoch: 15 [44800/50000(90%)]\tTrain Loss: 0.7104104161262512\n",
      "\n",
      "[EPOCH: 15]\tTest Loss: 0.0326\tTest Accuracy: 64.86 % \n",
      "\n",
      "train Epoch: 16 [0/50000(0%)]\tTrain Loss: 0.7149492502212524\n",
      "train Epoch: 16 [6400/50000(13%)]\tTrain Loss: 0.6593291163444519\n",
      "train Epoch: 16 [12800/50000(26%)]\tTrain Loss: 0.701142430305481\n",
      "train Epoch: 16 [19200/50000(38%)]\tTrain Loss: 0.7942405939102173\n",
      "train Epoch: 16 [25600/50000(51%)]\tTrain Loss: 0.9752839207649231\n",
      "train Epoch: 16 [32000/50000(64%)]\tTrain Loss: 0.7688230872154236\n",
      "train Epoch: 16 [38400/50000(77%)]\tTrain Loss: 0.5402947664260864\n",
      "train Epoch: 16 [44800/50000(90%)]\tTrain Loss: 0.9311014413833618\n",
      "\n",
      "[EPOCH: 16]\tTest Loss: 0.0342\tTest Accuracy: 63.9 % \n",
      "\n",
      "train Epoch: 17 [0/50000(0%)]\tTrain Loss: 0.9059077501296997\n",
      "train Epoch: 17 [6400/50000(13%)]\tTrain Loss: 0.32811853289604187\n",
      "train Epoch: 17 [12800/50000(26%)]\tTrain Loss: 0.9695001244544983\n",
      "train Epoch: 17 [19200/50000(38%)]\tTrain Loss: 0.6915569305419922\n",
      "train Epoch: 17 [25600/50000(51%)]\tTrain Loss: 0.8617270588874817\n",
      "train Epoch: 17 [32000/50000(64%)]\tTrain Loss: 0.7720620036125183\n",
      "train Epoch: 17 [38400/50000(77%)]\tTrain Loss: 0.7998990416526794\n",
      "train Epoch: 17 [44800/50000(90%)]\tTrain Loss: 0.7382766008377075\n",
      "\n",
      "[EPOCH: 17]\tTest Loss: 0.0329\tTest Accuracy: 64.7 % \n",
      "\n",
      "train Epoch: 18 [0/50000(0%)]\tTrain Loss: 0.7831259369850159\n",
      "train Epoch: 18 [6400/50000(13%)]\tTrain Loss: 0.7606682777404785\n",
      "train Epoch: 18 [12800/50000(26%)]\tTrain Loss: 0.5425377488136292\n",
      "train Epoch: 18 [19200/50000(38%)]\tTrain Loss: 0.7389202117919922\n",
      "train Epoch: 18 [25600/50000(51%)]\tTrain Loss: 0.6326232552528381\n",
      "train Epoch: 18 [32000/50000(64%)]\tTrain Loss: 0.8807485103607178\n",
      "train Epoch: 18 [38400/50000(77%)]\tTrain Loss: 0.7255454659461975\n",
      "train Epoch: 18 [44800/50000(90%)]\tTrain Loss: 0.766016960144043\n",
      "\n",
      "[EPOCH: 18]\tTest Loss: 0.0329\tTest Accuracy: 64.17 % \n",
      "\n",
      "train Epoch: 19 [0/50000(0%)]\tTrain Loss: 0.5912516117095947\n",
      "train Epoch: 19 [6400/50000(13%)]\tTrain Loss: 0.7404954433441162\n",
      "train Epoch: 19 [12800/50000(26%)]\tTrain Loss: 0.731981635093689\n",
      "train Epoch: 19 [19200/50000(38%)]\tTrain Loss: 0.796544075012207\n",
      "train Epoch: 19 [25600/50000(51%)]\tTrain Loss: 0.5512774586677551\n",
      "train Epoch: 19 [32000/50000(64%)]\tTrain Loss: 0.5557941794395447\n",
      "train Epoch: 19 [38400/50000(77%)]\tTrain Loss: 0.8796408772468567\n",
      "train Epoch: 19 [44800/50000(90%)]\tTrain Loss: 1.018764853477478\n",
      "\n",
      "[EPOCH: 19]\tTest Loss: 0.0337\tTest Accuracy: 64.38 % \n",
      "\n",
      "train Epoch: 20 [0/50000(0%)]\tTrain Loss: 0.42152565717697144\n",
      "train Epoch: 20 [6400/50000(13%)]\tTrain Loss: 0.5812523365020752\n",
      "train Epoch: 20 [12800/50000(26%)]\tTrain Loss: 0.46204596757888794\n",
      "train Epoch: 20 [19200/50000(38%)]\tTrain Loss: 0.7601012587547302\n",
      "train Epoch: 20 [25600/50000(51%)]\tTrain Loss: 0.6538825035095215\n",
      "train Epoch: 20 [32000/50000(64%)]\tTrain Loss: 0.6591481566429138\n",
      "train Epoch: 20 [38400/50000(77%)]\tTrain Loss: 0.9407771825790405\n",
      "train Epoch: 20 [44800/50000(90%)]\tTrain Loss: 0.588189959526062\n",
      "\n",
      "[EPOCH: 20]\tTest Loss: 0.0343\tTest Accuracy: 62.94 % \n",
      "\n"
     ]
    },
    {
     "data": {
      "text/html": [
       "<style>\n",
       "    table.wandb td:nth-child(1) { padding: 0 10px; text-align: left ; width: auto;} td:nth-child(2) {text-align: left ; width: 100%}\n",
       "    .wandb-row { display: flex; flex-direction: row; flex-wrap: wrap; justify-content: flex-start; width: 100% }\n",
       "    .wandb-col { display: flex; flex-direction: column; flex-basis: 100%; flex: 1; padding: 10px; }\n",
       "    </style>\n",
       "<div class=\"wandb-row\"><div class=\"wandb-col\"><h3>Run history:</h3><br/><table class=\"wandb\"><tr><td>Test_acc</td><td>▁▂▄▄▆▆▇▇█▇▇█▇▇█▇███▇</td></tr><tr><td>Test_loss</td><td>██▅▄▃▃▂▁▁▂▂▁▂▂▂▃▂▂▂▃</td></tr><tr><td>Train_acc</td><td>▁▂▃▄▄▅▅▆▆▆▇▇▇▇▇▇████</td></tr><tr><td>Train_loss</td><td>█▇▆▅▅▄▄▃▃▃▂▂▂▂▂▂▁▁▁▁</td></tr></table><br/></div><div class=\"wandb-col\"><h3>Run summary:</h3><br/><table class=\"wandb\"><tr><td>Test_acc</td><td>62.94</td></tr><tr><td>Test_loss</td><td>0.0343</td></tr><tr><td>Train_acc</td><td>74.034</td></tr><tr><td>Train_loss</td><td>0.02309</td></tr></table><br/></div></div>"
      ],
      "text/plain": [
       "<IPython.core.display.HTML object>"
      ]
     },
     "metadata": {},
     "output_type": "display_data"
    },
    {
     "data": {
      "text/html": [
       " View run <strong style=\"color:#cdcd00\">practice_1</strong> at: <a href='https://wandb.ai/jd-hwang/CIFAR-10-classification/runs/8pnhnma6' target=\"_blank\">https://wandb.ai/jd-hwang/CIFAR-10-classification/runs/8pnhnma6</a><br/>Synced 6 W&B file(s), 0 media file(s), 0 artifact file(s) and 0 other file(s)"
      ],
      "text/plain": [
       "<IPython.core.display.HTML object>"
      ]
     },
     "metadata": {},
     "output_type": "display_data"
    },
    {
     "data": {
      "text/html": [
       "Find logs at: <code>.\\wandb\\run-20240325_131645-8pnhnma6\\logs</code>"
      ],
      "text/plain": [
       "<IPython.core.display.HTML object>"
      ]
     },
     "metadata": {},
     "output_type": "display_data"
    }
   ],
   "source": [
    "wandb.watch(model)\n",
    "\n",
    "EPOCHS = epochs\n",
    "for Epoch in range(1, EPOCHS + 1):\n",
    "    train_loss, train_accuracy = train(model, train_loader, optimizer, log_interval=200)\n",
    "    test_loss, test_accuracy = evaluate(model, test_loader)\n",
    "    print(f\"\\n[EPOCH: {Epoch}]\\tTest Loss: {test_loss:.4f}\\tTest Accuracy: {test_accuracy} % \\n\")\n",
    "\n",
    "    wandb.log({\"Train_loss\":train_loss,\"Train_acc\":train_accuracy,\"Test_loss\":test_loss,\"Test_acc\":test_accuracy})\n",
    "wandb.finish()"
   ]
  },
  {
   "cell_type": "code",
   "execution_count": null,
   "metadata": {},
   "outputs": [],
   "source": []
  }
 ],
 "metadata": {
  "kernelspec": {
   "display_name": "JD_py117",
   "language": "python",
   "name": "python3"
  },
  "language_info": {
   "codemirror_mode": {
    "name": "ipython",
    "version": 3
   },
   "file_extension": ".py",
   "mimetype": "text/x-python",
   "name": "python",
   "nbconvert_exporter": "python",
   "pygments_lexer": "ipython3",
   "version": "3.10.13"
  }
 },
 "nbformat": 4,
 "nbformat_minor": 2
}
